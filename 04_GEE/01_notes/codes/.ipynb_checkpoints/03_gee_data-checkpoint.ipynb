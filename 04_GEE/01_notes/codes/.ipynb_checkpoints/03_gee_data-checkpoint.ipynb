{
 "cells": [
  {
   "cell_type": "markdown",
   "id": "kx_f8JSkR-eL",
   "metadata": {
    "id": "kx_f8JSkR-eL"
   },
   "source": [
    "# Using Earth Engine Data\n",
    "\n",
    "```{contents}\n",
    ":local:\n",
    ":depth: 3\n",
    "```\n",
    "\n",
    "## Introduction\n",
    "\n",
    "## Technical requirements\n",
    "\n",
    "```bash\n",
    "conda create -n gee python\n",
    "conda activate gee\n",
    "conda install -c conda-forge mamba\n",
    "mamba install -c conda-forge pygis\n",
    "```\n",
    "\n",
    "```bash\n",
    "jupyter lab\n",
    "```"
   ]
  },
  {
   "cell_type": "code",
   "execution_count": null,
   "id": "hSWxFEuMR-eN",
   "metadata": {
    "id": "hSWxFEuMR-eN"
   },
   "outputs": [],
   "source": [
    "# %pip install pygis"
   ]
  },
  {
   "cell_type": "code",
   "execution_count": 1,
   "id": "dlHiLFtGR-eO",
   "metadata": {
    "id": "dlHiLFtGR-eO"
   },
   "outputs": [],
   "source": [
    "import ee\n",
    "ee.Initialize()\n",
    "import geemap\n",
    "geemap.set_proxy(port=7890)"
   ]
  },
  {
   "cell_type": "code",
   "execution_count": 2,
   "id": "isrxlzwHR-eO",
   "metadata": {
    "id": "isrxlzwHR-eO"
   },
   "outputs": [
    {
     "data": {
      "text/html": [
       "\n",
       "            <style>\n",
       "                .geemap-dark {\n",
       "                    --jp-widgets-color: white;\n",
       "                    --jp-widgets-label-color: white;\n",
       "                    --jp-ui-font-color1: white;\n",
       "                    --jp-layout-color2: #454545;\n",
       "                    background-color: #383838;\n",
       "                }\n",
       "                    \n",
       "                .geemap-dark .jupyter-button {\n",
       "                    --jp-layout-color3: #383838;\n",
       "                }\n",
       "                \n",
       "                .geemap-colab {\n",
       "                    background-color: var(--colab-primary-surface-color, white);\n",
       "                }\n",
       "                    \n",
       "                .geemap-colab .jupyter-button {\n",
       "                    --jp-layout-color3: var(--colab-primary-surface-color, white);\n",
       "                }\n",
       "            </style>\n",
       "            "
      ],
      "text/plain": [
       "<IPython.core.display.HTML object>"
      ]
     },
     "metadata": {},
     "output_type": "display_data"
    }
   ],
   "source": [
    "Map = geemap.Map()"
   ]
  },
  {
   "cell_type": "markdown",
   "id": "uBV2JyxWR-eO",
   "metadata": {
    "id": "uBV2JyxWR-eO"
   },
   "source": [
    "## Earth Engine data types\n",
    "\n",
    "### Image\n",
    "\n",
    "#### Loading Earth Engine images"
   ]
  },
  {
   "cell_type": "code",
   "execution_count": null,
   "id": "5700e7b2-eb29-4ef5-aeb5-c2771e8d7675",
   "metadata": {},
   "outputs": [],
   "source": [
    "# ee. 开头的为google earth enginee, api， 无法直接显示数据"
   ]
  },
  {
   "cell_type": "code",
   "execution_count": null,
   "id": "jSCtbLEcR-eO",
   "metadata": {
    "id": "jSCtbLEcR-eO"
   },
   "outputs": [],
   "source": [
    "image = ee.Image('USGS/SRTMGL1_003')"
   ]
  },
  {
   "cell_type": "code",
   "execution_count": null,
   "id": "c18yc9WVR-eP",
   "metadata": {
    "id": "c18yc9WVR-eP"
   },
   "outputs": [],
   "source": [
    "image"
   ]
  },
  {
   "cell_type": "code",
   "execution_count": null,
   "id": "da7ffbc7-24e7-4673-9809-dd8005c7f540",
   "metadata": {
    "id": "eualtEGsR-eP"
   },
   "outputs": [],
   "source": [
    "image.getInfo()"
   ]
  },
  {
   "cell_type": "code",
   "execution_count": null,
   "id": "6c84a8fc-d89b-49a9-949f-17556b819b39",
   "metadata": {},
   "outputs": [],
   "source": [
    "# 创建一个Map\n",
    "# ee获取一个layer储存在变量里\n",
    "# 'palette'设置可视化属性，最低、最高，调色板（gis中从低到高的颜色），可以用geemap layer设置中默认的\n",
    "# 把layer添加到Map上, .addLayer()\n",
    "\n",
    "# 地图右上角的inspect（！标注）可以查看位置数据"
   ]
  },
  {
   "cell_type": "code",
   "execution_count": null,
   "id": "uOKPJazIR-eQ",
   "metadata": {
    "id": "uOKPJazIR-eQ"
   },
   "outputs": [],
   "source": [
    "Map = geemap.Map(center=[21.79, 70.87], zoom=3)\n",
    "image = ee.Image('USGS/SRTMGL1_003')\n",
    "vis_params = {\n",
    "    'min': 0,\n",
    "    'max': 6000,\n",
    "    'palette': ['006633', 'E5FFCC', '662A00', 'D8D8D8', 'F5F5F5'],\n",
    "}\n",
    "Map.addLayer(image, vis_params, 'SRTM', True, 0.5)\n",
    "Map"
   ]
  },
  {
   "cell_type": "code",
   "execution_count": null,
   "id": "94b11d4d-9c3c-4d38-9980-419adddd5a7a",
   "metadata": {},
   "outputs": [],
   "source": [
    "#  简单的方法是用'palette':'terrain'，然后再改"
   ]
  },
  {
   "cell_type": "code",
   "execution_count": null,
   "id": "e4a90b01-b44b-4d6f-9a34-7d6194f3f1a2",
   "metadata": {
    "id": "tmJnClpaR-eY"
   },
   "outputs": [],
   "source": [
    "Map = geemap.Map()\n",
    "dem = ee.Image('CGIAR/SRTM90_V4')\n",
    "Map.addLayer(dem, {'min' :0, 'max' : 7000, 'palette':'terrain'}, 'SRTM DEM')\n",
    "Map"
   ]
  },
  {
   "cell_type": "markdown",
   "id": "q7Mu_RlWR-eQ",
   "metadata": {
    "id": "q7Mu_RlWR-eQ"
   },
   "source": [
    "#### Loading Cloud GeoTIFFs"
   ]
  },
  {
   "cell_type": "code",
   "execution_count": null,
   "id": "K7VkXyjyR-eQ",
   "metadata": {
    "id": "K7VkXyjyR-eQ"
   },
   "outputs": [],
   "source": [
    "Map = geemap.Map()\n",
    "URL = 'https://bit.ly/3aSZ0fH'\n",
    "image = geemap.load_GeoTIFF(URL)\n",
    "vis = {\n",
    "    \"min\": 3000,\n",
    "    \"max\": 13500,\n",
    "    \"bands\": [\"B3\", \"B2\", \"B1\"],\n",
    "}\n",
    "Map.addLayer(image, vis, 'Cloud GeoTIFF')\n",
    "Map.centerObject(image)\n",
    "Map"
   ]
  },
  {
   "cell_type": "code",
   "execution_count": null,
   "id": "G3nLjM1DR-eQ",
   "metadata": {
    "id": "G3nLjM1DR-eQ"
   },
   "outputs": [],
   "source": [
    "B3 = 'gs://gcp-public-data-landsat/LC08/01/044/034/LC08_L1TP_044034_20131228_20170307_01_T1/LC08_L1TP_044034_20131228_20170307_01_T1_B3.TIF'\n",
    "B4 = 'gs://gcp-public-data-landsat/LC08/01/044/034/LC08_L1TP_044034_20131228_20170307_01_T1/LC08_L1TP_044034_20131228_20170307_01_T1_B4.TIF'\n",
    "B5 = 'gs://gcp-public-data-landsat/LC08/01/044/034/LC08_L1TP_044034_20131228_20170307_01_T1/LC08_L1TP_044034_20131228_20170307_01_T1_B5.TIF'"
   ]
  },
  {
   "cell_type": "code",
   "execution_count": null,
   "id": "kSMcv2qLR-eQ",
   "metadata": {
    "id": "kSMcv2qLR-eQ"
   },
   "outputs": [],
   "source": [
    "URLs = [B3, B4, B5]\n",
    "collection = geemap.load_GeoTIFFs(URLs)\n",
    "image = collection.toBands().rename(['Green', 'Red', 'NIR']).selfMask()"
   ]
  },
  {
   "cell_type": "code",
   "execution_count": null,
   "id": "V1r3iTLcR-eQ",
   "metadata": {
    "id": "V1r3iTLcR-eQ"
   },
   "outputs": [],
   "source": [
    "Map = geemap.Map()\n",
    "vis = {'bands': ['NIR', 'Red', 'Green'], 'min': 100, 'max': 12000, 'gamma': 0.8}\n",
    "Map.addLayer(image, vis, 'Image')\n",
    "Map.centerObject(image, 8)\n",
    "Map"
   ]
  },
  {
   "cell_type": "markdown",
   "id": "cIBUfCURR-eQ",
   "metadata": {
    "id": "cIBUfCURR-eQ"
   },
   "source": [
    "### ImageCollection\n",
    "\n",
    "#### Loading image collections"
   ]
  },
  {
   "cell_type": "code",
   "execution_count": null,
   "id": "fc9f2017-ef59-4808-8918-28cb3a0facc0",
   "metadata": {},
   "outputs": [],
   "source": [
    "# 先创建collection, 然后转为image（比如: .median()），因为image是不带数据的，很多指令无法执行"
   ]
  },
  {
   "cell_type": "code",
   "execution_count": null,
   "id": "_58wC1z_R-eR",
   "metadata": {
    "id": "_58wC1z_R-eR"
   },
   "outputs": [],
   "source": [
    "collection = ee.ImageCollection('COPERNICUS/S2_SR')"
   ]
  },
  {
   "cell_type": "code",
   "execution_count": null,
   "id": "be699193-d54b-4269-8650-4c51ac70d7d4",
   "metadata": {},
   "outputs": [],
   "source": [
    "# collection 不是单一image数据\n",
    "# 可以用.size().getInfo()查看数据大小"
   ]
  },
  {
   "cell_type": "code",
   "execution_count": null,
   "id": "8DhE3ts7R-eR",
   "metadata": {
    "id": "8DhE3ts7R-eR"
   },
   "outputs": [],
   "source": [
    "collection.limit(5)"
   ]
  },
  {
   "cell_type": "markdown",
   "id": "LF_mFycrR-eR",
   "metadata": {
    "id": "LF_mFycrR-eR"
   },
   "source": [
    "#### Visualizing image collections"
   ]
  },
  {
   "cell_type": "code",
   "execution_count": null,
   "id": "AzlR8ZX5R-eR",
   "metadata": {
    "id": "AzlR8ZX5R-eR"
   },
   "outputs": [],
   "source": [
    "Map = geemap.Map()\n",
    "collection = ee.ImageCollection('COPERNICUS/S2_SR')\n",
    "image = collection.median() #去云\n",
    "\n",
    "vis = {\n",
    "    'min': 0.0,\n",
    "    'max': 3000,\n",
    "    'bands': ['B4', 'B3', 'B2'],\n",
    "}\n",
    "\n",
    "Map.setCenter(120, 40, 12)\n",
    "Map.addLayer(image, vis, 'Sentinel-2')\n",
    "Map"
   ]
  },
  {
   "cell_type": "markdown",
   "id": "ArnQpj1-R-eR",
   "metadata": {
    "id": "ArnQpj1-R-eR"
   },
   "source": [
    "#### Filtering image collections"
   ]
  },
  {
   "cell_type": "code",
   "execution_count": null,
   "id": "19e0f701-dee5-49ff-a527-53f87eae4662",
   "metadata": {},
   "outputs": [],
   "source": [
    "# 1. 按区域筛选图像\n",
    "#    在地图中自定义一个边框，通过Map.user_roi获取，然后给collection作为限定条件\n",
    "#  collection = ee.ImageCollection('COPERNICUS/S2_SR').filterBounds(Map.user_roi)\n",
    "\n",
    "#  2. 按时间筛选图像 .filterDate()\n",
    "#  3. 自定义 .filter(ee.Filter.lt('CLOUDY_PIXEL_PERCENTAGE', 5))"
   ]
  },
  {
   "cell_type": "code",
   "execution_count": null,
   "id": "c74d7390-54da-4009-819a-8c3dbc6eb0f2",
   "metadata": {
    "id": "RMM3Hv8cR-eW"
   },
   "outputs": [],
   "source": [
    "#  定义范围，ImageCollection\n",
    "region = Map.user_roi\n",
    "if region is None:\n",
    "    region = ee.Geometry.BBox(-88.40, 29.88, -77.90, 35.39)\n",
    "\n",
    "fc = ee.ImageCollection('COPERNICUS/S2_SR') \\\n",
    "        .filterBounds(region) \\\n",
    "        .filterDate('2021-06-01', '2021-08-01') \\\n",
    "        .filter(ee.Filter.lt('CLOUDY_PIXEL_PERCENTAGE', 20))\n",
    "\n",
    "image = fc.median()  \n",
    "\n",
    "vis = {\n",
    "    'min': 0.0,\n",
    "    'max': 3000,\n",
    "    'bands': ['B4', 'B3', 'B2'],\n",
    "}\n",
    "\n",
    "       \n",
    "Map.addLayer(img, vis, 'Southeastern U.S.14')\n",
    "Map.centerObject(fc)\n",
    "Map"
   ]
  },
  {
   "cell_type": "code",
   "execution_count": null,
   "id": "u7-l68XDR-eR",
   "metadata": {
    "id": "u7-l68XDR-eR",
    "scrolled": true
   },
   "outputs": [],
   "source": [
    "Map = geemap.Map()\n",
    "\n",
    "# 用 '()' 或者  '\\'来给同一句命令换行，但记得要缩进\n",
    "collection = (\n",
    "    ee.ImageCollection('COPERNICUS/S2_SR')\n",
    "    .filterDate('2021-01-01', '2022-01-01') # 后面那个是到2021-12-31\n",
    "    .filter(ee.Filter.lt('CLOUDY_PIXEL_PERCENTAGE', 5))\n",
    ")\n",
    "image = collection.median()\n",
    "\n",
    "# 这个可以作为卫星图视觉属性的默认值，波段和value之间的关系？\n",
    "vis = {\n",
    "    'min': 0.0,\n",
    "    'max': 3000,\n",
    "    'bands': ['B4', 'B3', 'B2'], #[R,G,B]\n",
    "}\n",
    "\n",
    "Map.setCenter(83.277, 17.7009, 12)\n",
    "Map.addLayer(image, vis, 'Sentinel-2')\n",
    "Map"
   ]
  },
  {
   "cell_type": "markdown",
   "id": "df769855-2c20-4dfc-b725-4cde5a5e733b",
   "metadata": {
    "id": "5RjW4GmoR-eR"
   },
   "source": [
    "### Geometry\n",
    "\n",
    "#### Geometry types\n",
    "\n",
    "#### Creating Geometry objects"
   ]
  },
  {
   "cell_type": "code",
   "execution_count": null,
   "id": "f0O0xdBsR-eR",
   "metadata": {
    "id": "f0O0xdBsR-eR"
   },
   "outputs": [],
   "source": [
    "Map = geemap.Map()\n",
    "\n",
    "point = ee.Geometry.Point([1.5, 1.5])\n",
    "\n",
    "lineString = ee.Geometry.LineString([[-35, -10], [35, -10], [35, 10], [-35, 10]])\n",
    "\n",
    "linearRing = ee.Geometry.LinearRing(\n",
    "    [[-35, -10], [35, -10], [35, 10], [-35, 10], [-35, -10]]\n",
    ")\n",
    "\n",
    "rectangle = ee.Geometry.Rectangle([-40, -20, 40, 20])\n",
    "\n",
    "polygon = ee.Geometry.Polygon([[[-5, 40], [65, 40], [65, 60], [-5, 60], [-5, 60]]])\n",
    "\n",
    "Map.addLayer(point, {}, 'Point')\n",
    "Map.addLayer(lineString, {}, 'LineString')\n",
    "Map.addLayer(linearRing, {}, 'LinearRing')\n",
    "Map.addLayer(rectangle, {}, 'Rectangle')\n",
    "Map.addLayer(polygon, {}, 'Polygon')\n",
    "Map"
   ]
  },
  {
   "cell_type": "code",
   "execution_count": null,
   "id": "KPDb99ScR-eR",
   "metadata": {
    "id": "KPDb99ScR-eR"
   },
   "outputs": [],
   "source": [
    "Map = geemap.Map()\n",
    "\n",
    "point = ee.Geometry.Point([1.5, 1.5])\n",
    "\n",
    "lineString = ee.Geometry.LineString(\n",
    "    [[-35, -10], [35, -10], [35, 10], [-35, 10]], None, False\n",
    ")\n",
    "\n",
    "linearRing = ee.Geometry.LinearRing(\n",
    "    [[-35, -10], [35, -10], [35, 10], [-35, 10], [-35, -10]], None, False\n",
    ")\n",
    "\n",
    "rectangle = ee.Geometry.Rectangle([-40, -20, 40, 20], None, False)\n",
    "\n",
    "polygon = ee.Geometry.Polygon(\n",
    "    [[[-5, 40], [65, 40], [65, 60], [-5, 60], [-5, 60]]], None, False\n",
    ")\n",
    "\n",
    "Map.addLayer(point, {}, 'Point')\n",
    "Map.addLayer(lineString, {}, 'LineString')\n",
    "Map.addLayer(linearRing, {}, 'LinearRing')\n",
    "Map.addLayer(rectangle, {}, 'Rectangle')\n",
    "Map.addLayer(polygon, {}, 'Polygon')\n",
    "Map"
   ]
  },
  {
   "cell_type": "markdown",
   "id": "RofuMlkjR-eR",
   "metadata": {
    "id": "RofuMlkjR-eR"
   },
   "source": [
    "#### Using drawing tools"
   ]
  },
  {
   "cell_type": "code",
   "execution_count": null,
   "id": "fTbv_porR-eR",
   "metadata": {
    "id": "fTbv_porR-eR"
   },
   "outputs": [],
   "source": [
    "if Map.user_roi is not None:\n",
    "    print(Map.user_roi.getInfo())"
   ]
  },
  {
   "cell_type": "code",
   "execution_count": null,
   "id": "GqJzuKmYR-eR",
   "metadata": {
    "id": "GqJzuKmYR-eR"
   },
   "outputs": [],
   "source": [
    "if Map.user_roi is not None:\n",
    "    print(Map.user_roi)"
   ]
  },
  {
   "cell_type": "markdown",
   "id": "3LG9ewBQR-eR",
   "metadata": {
    "id": "3LG9ewBQR-eR"
   },
   "source": [
    "### Feature\n",
    "\n",
    "#### Creating Feature objects"
   ]
  },
  {
   "cell_type": "code",
   "execution_count": null,
   "id": "Jh03OCvnR-eS",
   "metadata": {
    "id": "Jh03OCvnR-eS"
   },
   "outputs": [],
   "source": [
    "polygon = ee.Geometry.Polygon(\n",
    "    [[[-35, -10], [35, -10], [35, 10], [-35, 10], [-35, -10]]], None, False\n",
    ")\n",
    "polyFeature = ee.Feature(polygon, {'foo': 42, 'bar': 'tart'})"
   ]
  },
  {
   "cell_type": "code",
   "execution_count": null,
   "id": "v8Q0dKvBR-eS",
   "metadata": {
    "id": "v8Q0dKvBR-eS"
   },
   "outputs": [],
   "source": [
    "polyFeature"
   ]
  },
  {
   "cell_type": "code",
   "execution_count": null,
   "id": "4wAn9RflR-eS",
   "metadata": {
    "id": "4wAn9RflR-eS"
   },
   "outputs": [],
   "source": [
    "Map = geemap.Map()\n",
    "Map.addLayer(polyFeature, {}, 'feature')\n",
    "Map"
   ]
  },
  {
   "cell_type": "code",
   "execution_count": null,
   "id": "IQYSlPXnR-eS",
   "metadata": {
    "id": "IQYSlPXnR-eS"
   },
   "outputs": [],
   "source": [
    "props = {'foo': ee.Number(8).add(88), 'bar': 'hello'}\n",
    "nowhereFeature = ee.Feature(None, props)\n",
    "nowhereFeature"
   ]
  },
  {
   "cell_type": "markdown",
   "id": "3TNFnHpgR-eS",
   "metadata": {
    "id": "3TNFnHpgR-eS"
   },
   "source": [
    "#### Setting Feature properties"
   ]
  },
  {
   "cell_type": "code",
   "execution_count": null,
   "id": "UJpkmQnER-eS",
   "metadata": {
    "id": "UJpkmQnER-eS"
   },
   "outputs": [],
   "source": [
    "feature = (\n",
    "    ee.Feature(ee.Geometry.Point([-122.22599, 37.17605]))\n",
    "    .set('genus', 'Sequoia')\n",
    "    .set('species', 'sempervirens')\n",
    ")\n",
    "newDict = {'genus': 'Brachyramphus', 'presence': 1, 'species': 'marmoratus'}\n",
    "feature = feature.set(newDict)\n",
    "feature"
   ]
  },
  {
   "cell_type": "markdown",
   "id": "LVAhxnLYR-eS",
   "metadata": {
    "id": "LVAhxnLYR-eS",
    "jp-MarkdownHeadingCollapsed": true
   },
   "source": [
    "#### Getting Feature properties"
   ]
  },
  {
   "cell_type": "code",
   "execution_count": null,
   "id": "0dWkYHOYR-eS",
   "metadata": {
    "id": "0dWkYHOYR-eS"
   },
   "outputs": [],
   "source": [
    "prop = feature.get('species')\n",
    "prop"
   ]
  },
  {
   "cell_type": "code",
   "execution_count": null,
   "id": "zuXbqWpaR-eS",
   "metadata": {
    "id": "zuXbqWpaR-eS"
   },
   "outputs": [],
   "source": [
    "props = feature.toDictionary()\n",
    "props"
   ]
  },
  {
   "cell_type": "markdown",
   "id": "dhl6nCM1R-eS",
   "metadata": {
    "id": "dhl6nCM1R-eS"
   },
   "source": [
    "### FeatureCollection\n",
    "\n",
    "#### Loading feature collections"
   ]
  },
  {
   "cell_type": "code",
   "execution_count": null,
   "id": "yA61JbeqR-eV",
   "metadata": {
    "id": "yA61JbeqR-eV"
   },
   "outputs": [],
   "source": [
    "Map = geemap.Map()\n",
    "fc = ee.FeatureCollection('TIGER/2016/Roads')\n",
    "Map.setCenter(-73.9596, 40.7688, 12)\n",
    "Map.addLayer(fc, {}, 'Census roads')\n",
    "Map"
   ]
  },
  {
   "cell_type": "code",
   "execution_count": null,
   "id": "6NFFQAiZR-eW",
   "metadata": {
    "id": "6NFFQAiZR-eW"
   },
   "outputs": [],
   "source": [
    "fc.limit(3)"
   ]
  },
  {
   "cell_type": "markdown",
   "id": "Y-6tk8B3R-eW",
   "metadata": {
    "id": "Y-6tk8B3R-eW"
   },
   "source": [
    "#### Creating feature collections"
   ]
  },
  {
   "cell_type": "code",
   "execution_count": null,
   "id": "PfMXt7UYR-eW",
   "metadata": {
    "id": "PfMXt7UYR-eW"
   },
   "outputs": [],
   "source": [
    "features = [\n",
    "    ee.Feature(ee.Geometry.Rectangle(30.01, 59.80, 30.59, 60.15), {'name': 'Voronoi'}),\n",
    "    ee.Feature(ee.Geometry.Point(-73.96, 40.781), {'name': 'Thiessen'}),\n",
    "    ee.Feature(ee.Geometry.Point(6.4806, 50.8012), {'name': 'Dirichlet'}),\n",
    "]\n",
    "fromList = ee.FeatureCollection(features)"
   ]
  },
  {
   "cell_type": "markdown",
   "id": "15ae8de7-ea6e-4121-bfb6-f62b1be6480c",
   "metadata": {
    "id": "ArnQpj1-R-eR"
   },
   "source": [
    "#### 添加.shp"
   ]
  },
  {
   "cell_type": "code",
   "execution_count": null,
   "id": "83ee858f-bd5d-47a1-96a0-a090c38ace2c",
   "metadata": {},
   "outputs": [],
   "source": [
    "# 从本地添加到geemap中\n",
    "Map = geemap.Map()\n",
    "data = r'url'\n",
    "Map.add_shp(data)\n",
    "Map"
   ]
  },
  {
   "cell_type": "code",
   "execution_count": null,
   "id": "9e83fa96-e4db-4e21-bb01-f29e9f7f530e",
   "metadata": {},
   "outputs": [],
   "source": [
    "# 把.shp转为ee\n",
    "Map = geemap.Map()\n",
    "data = r'url'\n",
    "fc = geemap.shp_to_ee(data) \n",
    "# fc = geemap.vector_to_ee(data) \n",
    "Map.addLayer(fc, {}, 'layerName')\n",
    "Map"
   ]
  },
  {
   "cell_type": "code",
   "execution_count": null,
   "id": "f9bdf4b9-ccc6-407d-b791-772885727195",
   "metadata": {
    "scrolled": true
   },
   "outputs": [],
   "source": [
    "# 如何用转换后的ee文件属性筛选\n",
    "china = fc.filter(ee.Filter.eq('KeyName', 'Value'))"
   ]
  },
  {
   "cell_type": "code",
   "execution_count": null,
   "id": "a16d4adb-7cc9-4354-9b49-cd1e57465805",
   "metadata": {},
   "outputs": [],
   "source": [
    "Map.addLayer(china, {}, 'China')"
   ]
  },
  {
   "cell_type": "markdown",
   "id": "XnVKaPx7R-eW",
   "metadata": {
    "id": "XnVKaPx7R-eW"
   },
   "source": [
    "#### Filtering feature collections 筛选"
   ]
  },
  {
   "cell_type": "code",
   "execution_count": null,
   "id": "-2R_tb5iR-eW",
   "metadata": {
    "id": "-2R_tb5iR-eW"
   },
   "outputs": [],
   "source": [
    "Map = geemap.Map()\n",
    "states = ee.FeatureCollection('TIGER/2018/States')\n",
    "feat = states.filter(ee.Filter.eq('NAME', 'Texas'))\n",
    "Map.addLayer(feat, {}, 'Texas')\n",
    "Map.centerObject(feat)\n",
    "Map"
   ]
  },
  {
   "cell_type": "code",
   "execution_count": null,
   "id": "czxCuc2wR-eW",
   "metadata": {
    "id": "czxCuc2wR-eW"
   },
   "outputs": [],
   "source": [
    "texas = feat.first()\n",
    "texas.toDictionary()"
   ]
  },
  {
   "cell_type": "markdown",
   "id": "797d142a-ded1-4d69-a864-8717ebe45305",
   "metadata": {
    "id": "ArnQpj1-R-eR"
   },
   "source": [
    "#### 一个key对应多个value"
   ]
  },
  {
   "cell_type": "code",
   "execution_count": null,
   "id": "35a46b1c-4b2c-4960-9bd1-50ae5012cca7",
   "metadata": {},
   "outputs": [],
   "source": [
    "# 用.filter(ee.Filter.inList())"
   ]
  },
  {
   "cell_type": "code",
   "execution_count": null,
   "id": "9hGQLqyIR-eW",
   "metadata": {
    "id": "9hGQLqyIR-eW",
    "scrolled": true
   },
   "outputs": [],
   "source": [
    "Map = geemap.Map()\n",
    "states = ee.FeatureCollection('TIGER/2018/States')\n",
    "fc = states.filter(ee.Filter.inList('NAME', ['California', 'Oregon', 'Washington']))\n",
    "Map.addLayer(fc, {}, 'West Coast')\n",
    "Map.centerObject(fc)\n",
    "Map"
   ]
  },
  {
   "cell_type": "markdown",
   "id": "3bb77db7-ce98-4c10-8842-1c315b382712",
   "metadata": {
    "id": "ArnQpj1-R-eR"
   },
   "source": [
    "#### 自定义图形"
   ]
  },
  {
   "cell_type": "code",
   "execution_count": null,
   "id": "db0a0cce-3e5a-4fa0-88fd-0b2321a22e6e",
   "metadata": {},
   "outputs": [],
   "source": [
    "# 这里是FeatureCollection， Image都不能filterBounds好像？"
   ]
  },
  {
   "cell_type": "code",
   "execution_count": null,
   "id": "e145159e-b86c-4137-97fc-fbe4e3c770e4",
   "metadata": {},
   "outputs": [],
   "source": [
    "# Map中画的图形被储存Map对象的user_roi中"
   ]
  },
  {
   "cell_type": "code",
   "execution_count": 15,
   "id": "RMM3Hv8cR-eW",
   "metadata": {
    "id": "RMM3Hv8cR-eW"
   },
   "outputs": [
    {
     "data": {
      "text/html": [
       "\n",
       "            <style>\n",
       "                .geemap-dark {\n",
       "                    --jp-widgets-color: white;\n",
       "                    --jp-widgets-label-color: white;\n",
       "                    --jp-ui-font-color1: white;\n",
       "                    --jp-layout-color2: #454545;\n",
       "                    background-color: #383838;\n",
       "                }\n",
       "                    \n",
       "                .geemap-dark .jupyter-button {\n",
       "                    --jp-layout-color3: #383838;\n",
       "                }\n",
       "                \n",
       "                .geemap-colab {\n",
       "                    background-color: var(--colab-primary-surface-color, white);\n",
       "                }\n",
       "                    \n",
       "                .geemap-colab .jupyter-button {\n",
       "                    --jp-layout-color3: var(--colab-primary-surface-color, white);\n",
       "                }\n",
       "            </style>\n",
       "            "
      ],
      "text/plain": [
       "<IPython.core.display.HTML object>"
      ]
     },
     "metadata": {},
     "output_type": "display_data"
    },
    {
     "data": {
      "application/vnd.jupyter.widget-view+json": {
       "model_id": "3f91bbea65e44680b27f251e853f6585",
       "version_major": 2,
       "version_minor": 0
      },
      "text/plain": [
       "Map(bottom=812.0, center=[0, 0], controls=(WidgetControl(options=['position', 'transparent_bg'], widget=Search…"
      ]
     },
     "execution_count": 15,
     "metadata": {},
     "output_type": "execute_result"
    }
   ],
   "source": [
    "region = Map.user_roi\n",
    "if region is None:\n",
    "    region = ee.Geometry.BBox(-88.40, 29.88, -77.90, 35.39)\n",
    "\n",
    "fc = ee.FeatureCollection('TIGER/2018/States').filterBounds(region)\n",
    "Map.addLayer(fc, {}, 'Southeastern U.S.')\n",
    "Map.centerObject(fc)\n",
    "Map"
   ]
  },
  {
   "cell_type": "code",
   "execution_count": null,
   "id": "8e92af8a-8b86-484d-bf5b-2caf46526b58",
   "metadata": {},
   "outputs": [],
   "source": [
    "# 打印region信息\n",
    "region.getInfo()"
   ]
  },
  {
   "cell_type": "markdown",
   "id": "1jR0W-qLR-eW",
   "metadata": {
    "id": "1jR0W-qLR-eW"
   },
   "source": [
    "#### Visualizing feature collections"
   ]
  },
  {
   "cell_type": "code",
   "execution_count": null,
   "id": "b11d8d05-8488-419b-a0d9-9c7580e9da2a",
   "metadata": {},
   "outputs": [],
   "source": [
    "# 注意：更改完后，图层会变为栅格，失去矢量数据"
   ]
  },
  {
   "cell_type": "code",
   "execution_count": null,
   "id": "WbATSzFFR-eW",
   "metadata": {
    "id": "WbATSzFFR-eW",
    "scrolled": true
   },
   "outputs": [],
   "source": [
    "Map = geemap.Map(center=[40, -100], zoom=4)\n",
    "states = ee.FeatureCollection(\"TIGER/2018/States\")\n",
    "Map.addLayer(states, {}, \"US States\")\n",
    "Map"
   ]
  },
  {
   "cell_type": "code",
   "execution_count": null,
   "id": "17ef212a-1f0f-434d-9012-e02ba0541eb6",
   "metadata": {},
   "outputs": [],
   "source": [
    "# 这个不好理解，可以跳过"
   ]
  },
  {
   "cell_type": "code",
   "execution_count": null,
   "id": "JbUzkp1ZR-eW",
   "metadata": {
    "id": "JbUzkp1ZR-eW"
   },
   "outputs": [],
   "source": [
    "Map = geemap.Map(center=[40, -100], zoom=4)\n",
    "states = ee.FeatureCollection(\"TIGER/2018/States\")\n",
    "image = ee.Image().paint(states, 0, 3)\n",
    "Map.addLayer(image, {'palette': 'red'}, \"US States\")\n",
    "Map"
   ]
  },
  {
   "cell_type": "code",
   "execution_count": null,
   "id": "c2b816ba-c2d4-44b0-a0d2-8b4765e37b42",
   "metadata": {},
   "outputs": [],
   "source": [
    "# 多用这种方式"
   ]
  },
  {
   "cell_type": "code",
   "execution_count": null,
   "id": "92mSBZ3BR-eX",
   "metadata": {
    "id": "92mSBZ3BR-eX"
   },
   "outputs": [],
   "source": [
    "Map = geemap.Map(center=[40, -100], zoom=4)\n",
    "states = ee.FeatureCollection(\"TIGER/2018/States\")\n",
    "style = {'color': '0000ffff', 'width': 2, 'lineType': 'solid', 'fillColor': 'FF000080'}\n",
    "\n",
    "# PS中叠图层功能\n",
    "Map.addLayer(states, {}, \"US States Origin\")\n",
    "# 这个 ** 就是把JS语言转为Python可以读的\n",
    "Map.addLayer(states.style(**style), {}, \"US States\")\n",
    "Map"
   ]
  },
  {
   "cell_type": "code",
   "execution_count": null,
   "id": "faa97265-0c4c-46e3-92b4-5a5726d2354f",
   "metadata": {},
   "outputs": [],
   "source": [
    "# 根据指定列（Name）来赋值颜色，a-z升序，越低越白，面板里面调一下strech来把数据匹配最大最小"
   ]
  },
  {
   "cell_type": "code",
   "execution_count": null,
   "id": "9IfFqhF9R-eX",
   "metadata": {
    "id": "9IfFqhF9R-eX"
   },
   "outputs": [],
   "source": [
    "Map = geemap.Map(center=[40, -100], zoom=4)\n",
    "states = ee.FeatureCollection(\"TIGER/2018/States\")\n",
    "vis_params = {\n",
    "    'color': '000000',\n",
    "    'colorOpacity': 1,\n",
    "    'pointSize': 3,\n",
    "    'pointShape': 'circle',\n",
    "    'width': 2,\n",
    "    'lineType': 'solid',\n",
    "    'fillColorOpacity': 1,\n",
    "}\n",
    "palette = ['006633', 'E5FFCC', '662A00', 'D8D8D8', 'F5F5F5']\n",
    "# 添加原始layer，方便查看property\n",
    "Map.addLayer(states, {}, \"US States Origin\")\n",
    "Map.add_styled_vector(\n",
    "    states, column=\"NAME\", palette=palette, layer_name=\"Styled vector\", **vis_params\n",
    ")\n",
    "Map"
   ]
  },
  {
   "cell_type": "markdown",
   "id": "WjpmOx6mR-eX",
   "metadata": {
    "id": "WjpmOx6mR-eX"
   },
   "source": [
    "#### Styling by attribute"
   ]
  },
  {
   "cell_type": "code",
   "execution_count": null,
   "id": "-1R0L9NmR-eX",
   "metadata": {
    "id": "-1R0L9NmR-eX"
   },
   "outputs": [],
   "source": [
    "Map = geemap.Map(center=[28.00142, -81.7424], zoom=13)\n",
    "Map.add_basemap('HYBRID')"
   ]
  },
  {
   "cell_type": "code",
   "execution_count": null,
   "id": "6KvvxK_JR-eX",
   "metadata": {
    "id": "6KvvxK_JR-eX"
   },
   "outputs": [],
   "source": [
    "types = [\n",
    "    \"Freshwater Forested/Shrub Wetland\",\n",
    "    \"Freshwater Emergent Wetland\",\n",
    "    \"Freshwater Pond\",\n",
    "    \"Estuarine and Marine Wetland\",\n",
    "    \"Riverine\",\n",
    "    \"Lake\",\n",
    "    \"Estuarine and Marine Deepwater\",\n",
    "    \"Other\",\n",
    "]\n",
    "\n",
    "colors = [\n",
    "    \"#008837\",\n",
    "    \"#7FC31C\",\n",
    "    \"#688CC0\",\n",
    "    \"#66C2A5\",\n",
    "    \"#0190BF\",\n",
    "    \"#13007C\",\n",
    "    \"#007C88\",\n",
    "    \"#B28653\",\n",
    "]\n",
    "\n",
    "fillColor = [c + \"A8\" for c in colors]"
   ]
  },
  {
   "cell_type": "code",
   "execution_count": null,
   "id": "4xGp1r6QR-eX",
   "metadata": {
    "id": "4xGp1r6QR-eX"
   },
   "outputs": [],
   "source": [
    "fc = ee.FeatureCollection(\"projects/sat-io/open-datasets/NWI/wetlands/FL_Wetlands\")\n",
    "styled_fc = geemap.ee_vector_style(\n",
    "    fc, column='WETLAND_TY', labels=types, fillColor=fillColor, color='00000000'\n",
    ")"
   ]
  },
  {
   "cell_type": "code",
   "execution_count": null,
   "id": "442G07y9R-eX",
   "metadata": {
    "id": "442G07y9R-eX"
   },
   "outputs": [],
   "source": [
    "Map.addLayer(styled_fc, {}, 'NWI')\n",
    "Map.add_legend(title='Wetland Type', labels=types, colors=colors)\n",
    "Map"
   ]
  },
  {
   "cell_type": "code",
   "execution_count": null,
   "id": "t2zi1dIZR-eX",
   "metadata": {
    "id": "t2zi1dIZR-eX"
   },
   "outputs": [],
   "source": [
    "fuels = [\n",
    "    'Coal',\n",
    "    'Oil',\n",
    "    'Gas',\n",
    "    'Hydro',\n",
    "    'Nuclear',\n",
    "    'Solar',\n",
    "    'Waste',\n",
    "    'Wind',\n",
    "    'Geothermal',\n",
    "    'Biomass',\n",
    "]\n",
    "colors = [\n",
    "    '000000',\n",
    "    '593704',\n",
    "    'BC80BD',\n",
    "    '0565A6',\n",
    "    'E31A1C',\n",
    "    'FF7F00',\n",
    "    '6A3D9A',\n",
    "    '5CA2D1',\n",
    "    'FDBF6F',\n",
    "    '229A00',\n",
    "]"
   ]
  },
  {
   "cell_type": "code",
   "execution_count": null,
   "id": "RxBvGenBR-eX",
   "metadata": {
    "id": "RxBvGenBR-eX"
   },
   "outputs": [],
   "source": [
    "fc = ee.FeatureCollection(\"WRI/GPPD/power_plants\").filter(\n",
    "    ee.Filter.inList('fuel1', fuels)\n",
    ")\n",
    "styled_fc = geemap.ee_vector_style(fc, column=\"fuel1\", labels=fuels, color=colors)"
   ]
  },
  {
   "cell_type": "code",
   "execution_count": null,
   "id": "BnlSzGmNR-eX",
   "metadata": {
    "id": "BnlSzGmNR-eX"
   },
   "outputs": [],
   "source": [
    "Map = geemap.Map(center=[40, -100], zoom=4)\n",
    "Map.addLayer(styled_fc, {}, 'Power Plants')\n",
    "Map.add_legend(title=\"Power Plant Fuel Type\", labels=fuels, colors=colors)\n",
    "Map"
   ]
  },
  {
   "cell_type": "code",
   "execution_count": null,
   "id": "VnpHj6QmR-eX",
   "metadata": {
    "id": "VnpHj6QmR-eX"
   },
   "outputs": [],
   "source": [
    "types = ['I', 'U', 'S', 'M', 'C', 'O']\n",
    "labels = ['Interstate', 'U.S.', 'State recognized', 'Common Name', 'County', 'Other']\n",
    "colors = ['E31A1C', 'FF7F00', '6A3D9A', '000000', 'FDBF6F', '229A00']\n",
    "width = [8, 5, 4, 2, 1, 1]"
   ]
  },
  {
   "cell_type": "code",
   "execution_count": null,
   "id": "scu_Y4dSR-eY",
   "metadata": {
    "id": "scu_Y4dSR-eY"
   },
   "outputs": [],
   "source": [
    "fc = ee.FeatureCollection('TIGER/2016/Roads')\n",
    "styled_fc = geemap.ee_vector_style(\n",
    "    fc, column='rttyp', labels=types, color=colors, width=width\n",
    ")"
   ]
  },
  {
   "cell_type": "code",
   "execution_count": null,
   "id": "zOMB_JRjR-eY",
   "metadata": {
    "id": "zOMB_JRjR-eY"
   },
   "outputs": [],
   "source": [
    "Map = geemap.Map(center=[40.7424, -73.9724], zoom=13)\n",
    "Map.addLayer(styled_fc, {}, 'Census Roads')\n",
    "Map.add_legend(title='Route Type', labels=labels, colors=colors)\n",
    "Map"
   ]
  },
  {
   "cell_type": "markdown",
   "id": "Vdu6IJdcR-eY",
   "metadata": {
    "id": "Vdu6IJdcR-eY"
   },
   "source": [
    "## Earth Engine Data Catalog\n",
    "\n",
    "### Searching for datasets"
   ]
  },
  {
   "cell_type": "code",
   "execution_count": null,
   "id": "mO2MZa6pR-eY",
   "metadata": {
    "id": "mO2MZa6pR-eY"
   },
   "outputs": [],
   "source": [
    "dataset_xyz = ee.Image('USGS/SRTMGL1_003')\n",
    "Map.addLayer(dataset_xyz, {}, \"USGS/SRTMGL1_003\")"
   ]
  },
  {
   "cell_type": "code",
   "execution_count": null,
   "id": "tmJnClpaR-eY",
   "metadata": {
    "id": "tmJnClpaR-eY"
   },
   "outputs": [],
   "source": [
    "Map = geemap.Map()\n",
    "dem = ee.Image('USGS/SRTMGL1_003')\n",
    "vis_params = {\n",
    "    'min': 0,\n",
    "    'max': 4000,\n",
    "    'palette': ['006633', 'E5FFCC', '662A00', 'D8D8D8', 'F5F5F5'],\n",
    "}\n",
    "Map.addLayer(dem, vis_params, 'SRTM DEM')\n",
    "Map"
   ]
  },
  {
   "cell_type": "markdown",
   "id": "rR4qZ0lYR-eY",
   "metadata": {
    "id": "rR4qZ0lYR-eY"
   },
   "source": [
    "### Using the datasets module"
   ]
  },
  {
   "cell_type": "code",
   "execution_count": null,
   "id": "_rxoxSDBR-eY",
   "metadata": {
    "id": "_rxoxSDBR-eY"
   },
   "outputs": [],
   "source": [
    "from geemap.datasets import DATA"
   ]
  },
  {
   "cell_type": "code",
   "execution_count": null,
   "id": "R5_8DVsaR-eY",
   "metadata": {
    "id": "R5_8DVsaR-eY"
   },
   "outputs": [],
   "source": [
    "Map = geemap.Map(center=[40, -100], zoom=4)\n",
    "dataset = ee.Image(DATA.USGS_GAP_CONUS_2011)\n",
    "Map.addLayer(dataset, {}, 'GAP CONUS')\n",
    "Map"
   ]
  },
  {
   "cell_type": "code",
   "execution_count": null,
   "id": "7NoCY8rfR-eY",
   "metadata": {
    "id": "7NoCY8rfR-eY"
   },
   "outputs": [],
   "source": [
    "from geemap.datasets import get_metadata\n",
    "\n",
    "get_metadata(DATA.USGS_GAP_CONUS_2011)"
   ]
  },
  {
   "cell_type": "markdown",
   "id": "iowdRxBOR-eY",
   "metadata": {
    "id": "iowdRxBOR-eY"
   },
   "source": [
    "## Getting image metadata"
   ]
  },
  {
   "cell_type": "code",
   "execution_count": null,
   "id": "3HsTNxxrR-eY",
   "metadata": {
    "id": "3HsTNxxrR-eY"
   },
   "outputs": [],
   "source": [
    "image = ee.Image('LANDSAT/LC09/C02/T1_L2/LC09_044034_20220503')"
   ]
  },
  {
   "cell_type": "code",
   "execution_count": null,
   "id": "ie92Xnq-R-eY",
   "metadata": {
    "id": "ie92Xnq-R-eY"
   },
   "outputs": [],
   "source": [
    "image.bandNames()"
   ]
  },
  {
   "cell_type": "code",
   "execution_count": null,
   "id": "n4R5ed2BR-eZ",
   "metadata": {
    "id": "n4R5ed2BR-eZ"
   },
   "outputs": [],
   "source": [
    "image.select('SR_B1').projection()"
   ]
  },
  {
   "cell_type": "code",
   "execution_count": null,
   "id": "MLQy0ZnUR-eZ",
   "metadata": {
    "id": "MLQy0ZnUR-eZ"
   },
   "outputs": [],
   "source": [
    "image.select('SR_B1').projection().nominalScale()"
   ]
  },
  {
   "cell_type": "code",
   "execution_count": null,
   "id": "KXSjAfg2R-eZ",
   "metadata": {
    "id": "KXSjAfg2R-eZ"
   },
   "outputs": [],
   "source": [
    "image.propertyNames()"
   ]
  },
  {
   "cell_type": "code",
   "execution_count": null,
   "id": "LdOXy5LNR-eZ",
   "metadata": {
    "id": "LdOXy5LNR-eZ"
   },
   "outputs": [],
   "source": [
    "image.get('CLOUD_COVER')"
   ]
  },
  {
   "cell_type": "code",
   "execution_count": null,
   "id": "CTXzdafoR-eZ",
   "metadata": {
    "id": "CTXzdafoR-eZ"
   },
   "outputs": [],
   "source": [
    "image.get('DATE_ACQUIRED')"
   ]
  },
  {
   "cell_type": "code",
   "execution_count": null,
   "id": "yqOvEqPSR-eZ",
   "metadata": {
    "id": "yqOvEqPSR-eZ"
   },
   "outputs": [],
   "source": [
    "image.get('system:time_start')"
   ]
  },
  {
   "cell_type": "code",
   "execution_count": null,
   "id": "xTMkeLUFR-eZ",
   "metadata": {
    "id": "xTMkeLUFR-eZ"
   },
   "outputs": [],
   "source": [
    "date = ee.Date(image.get('system:time_start'))\n",
    "date.format('YYYY-MM-dd')"
   ]
  },
  {
   "cell_type": "code",
   "execution_count": null,
   "id": "TKR99Nk7R-eZ",
   "metadata": {
    "id": "TKR99Nk7R-eZ"
   },
   "outputs": [],
   "source": [
    "image.toDictionary()"
   ]
  },
  {
   "cell_type": "code",
   "execution_count": null,
   "id": "nf4y_vGrR-eZ",
   "metadata": {
    "id": "nf4y_vGrR-eZ"
   },
   "outputs": [],
   "source": [
    "props = geemap.image_props(image)\n",
    "props"
   ]
  },
  {
   "cell_type": "markdown",
   "id": "PbUoThpOR-eZ",
   "metadata": {
    "id": "PbUoThpOR-eZ"
   },
   "source": [
    "## Calculating descriptive statistics"
   ]
  },
  {
   "cell_type": "code",
   "execution_count": null,
   "id": "mm22hgv8R-ea",
   "metadata": {
    "id": "mm22hgv8R-ea"
   },
   "outputs": [],
   "source": [
    "image = ee.Image('LANDSAT/LC09/C02/T1_L2/LC09_044034_20220503')\n",
    "geemap.image_min_value(image)"
   ]
  },
  {
   "cell_type": "code",
   "execution_count": null,
   "id": "m5Ba7QyvR-ea",
   "metadata": {
    "id": "m5Ba7QyvR-ea"
   },
   "outputs": [],
   "source": [
    "geemap.image_max_value(image)"
   ]
  },
  {
   "cell_type": "code",
   "execution_count": null,
   "id": "r9Pf03krR-ea",
   "metadata": {
    "id": "r9Pf03krR-ea"
   },
   "outputs": [],
   "source": [
    "geemap.image_mean_value(image)"
   ]
  },
  {
   "cell_type": "code",
   "execution_count": null,
   "id": "K5KgO4IYR-ea",
   "metadata": {
    "id": "K5KgO4IYR-ea"
   },
   "outputs": [],
   "source": [
    "geemap.image_stats(image)"
   ]
  },
  {
   "cell_type": "markdown",
   "id": "oPkiJ0rHR-ea",
   "metadata": {
    "id": "oPkiJ0rHR-ea"
   },
   "source": [
    "## Using the inspector tool"
   ]
  },
  {
   "cell_type": "code",
   "execution_count": null,
   "id": "RXQtFNuOR-ea",
   "metadata": {
    "id": "RXQtFNuOR-ea"
   },
   "outputs": [],
   "source": [
    "Map = geemap.Map(center=(40, -100), zoom=4)\n",
    "dem = ee.Image('USGS/SRTMGL1_003')\n",
    "landsat7 = ee.Image('LANDSAT/LE7_TOA_5YEAR/1999_2003').select(\n",
    "    ['B1', 'B2', 'B3', 'B4', 'B5', 'B7']\n",
    ")\n",
    "states = ee.FeatureCollection(\"TIGER/2018/States\")\n",
    "vis_params = {\n",
    "    'min': 0,\n",
    "    'max': 4000,\n",
    "    'palette': ['006633', 'E5FFCC', '662A00', 'D8D8D8', 'F5F5F5'],\n",
    "}\n",
    "Map.addLayer(dem, vis_params, 'SRTM DEM')\n",
    "Map.addLayer(\n",
    "    landsat7,\n",
    "    {'bands': ['B4', 'B3', 'B2'], 'min': 20, 'max': 200, 'gamma': 2.0},\n",
    "    'Landsat 7',\n",
    ")\n",
    "Map.addLayer(states, {}, \"US States\")\n",
    "Map"
   ]
  },
  {
   "cell_type": "markdown",
   "id": "lWGb7GmiR-ea",
   "metadata": {
    "id": "lWGb7GmiR-ea"
   },
   "source": [
    "## Converting JavaScript to Python\n",
    "\n",
    "### Interactive conversion"
   ]
  },
  {
   "cell_type": "code",
   "execution_count": null,
   "id": "lm-KFaQIR-ea",
   "metadata": {
    "id": "lm-KFaQIR-ea"
   },
   "outputs": [],
   "source": [
    "Map = geemap.Map()\n",
    "Map"
   ]
  },
  {
   "cell_type": "code",
   "execution_count": null,
   "id": "FqGamDY_R-ea",
   "metadata": {
    "id": "FqGamDY_R-ea"
   },
   "outputs": [],
   "source": [
    "# Load an image.\n",
    "image = ee.Image('LANDSAT/LC08/C02/T1_TOA/LC08_044034_20140318')\n",
    "\n",
    "# Define the visualization parameters.\n",
    "vizParams = {'bands': ['B5', 'B4', 'B3'], 'min': 0, 'max': 0.5, 'gamma': [0.95, 1.1, 1]}\n",
    "\n",
    "# Center the map and display the image.\n",
    "Map.setCenter(-122.1899, 37.5010, 10)\n",
    "# San Francisco Bay\n",
    "Map.addLayer(image, vizParams, 'False color composite')"
   ]
  },
  {
   "cell_type": "markdown",
   "id": "4husS5QWR-ea",
   "metadata": {
    "id": "4husS5QWR-ea"
   },
   "source": [
    "### Batch conversion"
   ]
  },
  {
   "cell_type": "code",
   "execution_count": null,
   "id": "4zu1I3L_R-ea",
   "metadata": {
    "id": "4zu1I3L_R-ea"
   },
   "outputs": [],
   "source": [
    "snippet = \"\"\"\n",
    "// Load an image.\n",
    "var image = ee.Image('LANDSAT/LC08/C02/T1_TOA/LC08_044034_20140318');\n",
    "\n",
    "// Create an NDWI image, define visualization parameters and display.\n",
    "var ndwi = image.normalizedDifference(['B3', 'B5']);\n",
    "var ndwiViz = {min: 0.5, max: 1, palette: ['00FFFF', '0000FF']};\n",
    "Map.addLayer(ndwi, ndwiViz, 'NDWI');\n",
    "Map.centerObject(image)\n",
    "\"\"\"\n",
    "\n",
    "geemap.js_snippet_to_py(snippet, add_new_cell=True, import_ee=False)"
   ]
  },
  {
   "cell_type": "code",
   "execution_count": null,
   "id": "6O2g3a4lR-eb",
   "metadata": {
    "id": "6O2g3a4lR-eb"
   },
   "outputs": [],
   "source": [
    "# Load an image.\n",
    "image = ee.Image('LANDSAT/LC08/C02/T1_TOA/LC08_044034_20140318')\n",
    "\n",
    "# Create an NDWI image, define visualization parameters and display.\n",
    "ndwi = image.normalizedDifference(['B3', 'B5'])\n",
    "ndwiViz = {'min': 0.5, 'max': 1, 'palette': ['00FFFF', '0000FF']}\n",
    "Map.addLayer(ndwi, ndwiViz, 'NDWI')\n",
    "Map.centerObject(image)\n",
    "Map"
   ]
  },
  {
   "cell_type": "code",
   "execution_count": null,
   "id": "gl-eKMeNR-eb",
   "metadata": {
    "id": "gl-eKMeNR-eb"
   },
   "outputs": [],
   "source": [
    "import os\n",
    "from geemap.conversion import *\n",
    "\n",
    "out_dir = os.getcwd()\n",
    "js_dir = get_js_examples(out_dir)\n",
    "js_to_python_dir(in_dir=js_dir, out_dir=out_dir, use_qgis=False)\n",
    "py_to_ipynb_dir(js_dir)"
   ]
  },
  {
   "cell_type": "markdown",
   "id": "LvcGcKjAR-eb",
   "metadata": {
    "id": "LvcGcKjAR-eb"
   },
   "source": [
    "## Calling JavaScript functions from Python"
   ]
  },
  {
   "cell_type": "code",
   "execution_count": null,
   "id": "6fIcYGW-R-eb",
   "metadata": {
    "id": "6fIcYGW-R-eb"
   },
   "outputs": [],
   "source": [
    "# %pip install oeel"
   ]
  },
  {
   "cell_type": "code",
   "execution_count": null,
   "id": "7Tp2OOrOR-eb",
   "metadata": {
    "id": "7Tp2OOrOR-eb"
   },
   "outputs": [],
   "source": [
    "import oeel"
   ]
  },
  {
   "cell_type": "code",
   "execution_count": null,
   "id": "9Xjw2yTPR-eb",
   "metadata": {
    "id": "9Xjw2yTPR-eb"
   },
   "outputs": [],
   "source": [
    "oeel = geemap.requireJS()"
   ]
  },
  {
   "cell_type": "code",
   "execution_count": null,
   "id": "QpYaG5mnR-eb",
   "metadata": {
    "id": "QpYaG5mnR-eb"
   },
   "outputs": [],
   "source": [
    "ic = ee.ImageCollection(\"COPERNICUS/S2_SR\")\n",
    "icSize = (\n",
    "    oeel.Algorithms.Sentinel2.cloudfree(maxCloud=20, S2Collection=ic)\n",
    "    .filterDate('2020-01-01', '2020-01-02')\n",
    "    .size()\n",
    ")\n",
    "print('Cloud free imagery: ', icSize.getInfo())"
   ]
  },
  {
   "cell_type": "code",
   "execution_count": null,
   "id": "CSC5uKyWR-eb",
   "metadata": {
    "id": "CSC5uKyWR-eb"
   },
   "outputs": [],
   "source": [
    "url = 'https://tinyurl.com/27xy4oh9'\n",
    "lib = geemap.requireJS(lib_path=url)"
   ]
  },
  {
   "cell_type": "code",
   "execution_count": null,
   "id": "g9ZJzEEJR-eb",
   "metadata": {
    "id": "g9ZJzEEJR-eb"
   },
   "outputs": [],
   "source": [
    "lib.availability"
   ]
  },
  {
   "cell_type": "code",
   "execution_count": null,
   "id": "g64jFxi-R-eb",
   "metadata": {
    "id": "g64jFxi-R-eb"
   },
   "outputs": [],
   "source": [
    "grid = lib.generateGrid(-180, -70, 180, 70, 10, 10, 0, 0)\n",
    "grid.first()"
   ]
  },
  {
   "cell_type": "code",
   "execution_count": null,
   "id": "-ZoMbQAwR-eb",
   "metadata": {
    "id": "-ZoMbQAwR-eb"
   },
   "outputs": [],
   "source": [
    "Map = geemap.Map()\n",
    "style = {'fillColor': '00000000'}\n",
    "Map.addLayer(grid.style(**style), {}, 'Grid')\n",
    "Map"
   ]
  },
  {
   "cell_type": "code",
   "execution_count": null,
   "id": "-TxGD3oER-eb",
   "metadata": {
    "id": "-TxGD3oER-eb"
   },
   "outputs": [],
   "source": [
    "Map = geemap.Map()\n",
    "lib = geemap.requireJS(lib_path='grid.js', Map=Map)"
   ]
  },
  {
   "cell_type": "code",
   "execution_count": null,
   "id": "hsCq6EWdR-ec",
   "metadata": {
    "id": "hsCq6EWdR-ec"
   },
   "outputs": [],
   "source": [
    "grid = lib.generateGrid(-180, -70, 180, 70, 10, 10, 0, 0)\n",
    "grid.first()"
   ]
  },
  {
   "cell_type": "code",
   "execution_count": null,
   "id": "xRQX7bWsR-ec",
   "metadata": {
    "id": "xRQX7bWsR-ec"
   },
   "outputs": [],
   "source": [
    "lib.grid_test()\n",
    "Map"
   ]
  },
  {
   "cell_type": "code",
   "execution_count": null,
   "id": "UT2SIXQeR-ec",
   "metadata": {
    "id": "UT2SIXQeR-ec"
   },
   "outputs": [],
   "source": [
    "lib = geemap.requireJS('users/gena/packages:grid')"
   ]
  },
  {
   "cell_type": "code",
   "execution_count": null,
   "id": "2qVa5C3uR-ec",
   "metadata": {
    "id": "2qVa5C3uR-ec"
   },
   "outputs": [],
   "source": [
    "grid = lib.generateGrid(-180, -70, 180, 70, 10, 10, 0, 0)"
   ]
  },
  {
   "cell_type": "code",
   "execution_count": null,
   "id": "xdqAdncoR-ec",
   "metadata": {
    "id": "xdqAdncoR-ec"
   },
   "outputs": [],
   "source": [
    "Map = geemap.Map()\n",
    "style = {'fillColor': '00000000'}\n",
    "Map.addLayer(grid.style(**style), {}, 'Grid')\n",
    "Map"
   ]
  },
  {
   "cell_type": "markdown",
   "id": "zNj0nywrR-ec",
   "metadata": {
    "id": "zNj0nywrR-ec"
   },
   "source": [
    "## Summary"
   ]
  }
 ],
 "metadata": {
  "colab": {
   "provenance": []
  },
  "kernelspec": {
   "display_name": "Python 3 (ipykernel)",
   "language": "python",
   "name": "python3"
  },
  "language_info": {
   "codemirror_mode": {
    "name": "ipython",
    "version": 3
   },
   "file_extension": ".py",
   "mimetype": "text/x-python",
   "name": "python",
   "nbconvert_exporter": "python",
   "pygments_lexer": "ipython3",
   "version": "3.12.1"
  }
 },
 "nbformat": 4,
 "nbformat_minor": 5
}
