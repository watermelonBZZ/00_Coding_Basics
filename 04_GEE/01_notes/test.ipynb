{
 "cells": [
  {
   "cell_type": "markdown",
   "id": "d8645e61",
   "metadata": {},
   "source": [
    "# Creating Interactive Maps\n",
    "\n",
    "```{contents}\n",
    ":local:\n",
    ":depth: 2\n",
    "```\n",
    "\n",
    "## Introduction\n",
    "\n",
    "## Technical requirements\n",
    "\n",
    "```bash\n",
    "conda create -n gee python\n",
    "conda activate gee\n",
    "conda install -c conda-forge mamba\n",
    "mamba install -c conda-forge pygis\n",
    "```\n",
    "\n",
    "```bash\n",
    "jupyter lab\n",
    "```"
   ]
  },
  {
   "cell_type": "code",
   "execution_count": 1,
   "id": "1ec4b089",
   "metadata": {},
   "outputs": [],
   "source": [
    "# %pip install pygis"
   ]
  },
  {
   "cell_type": "code",
   "execution_count": 18,
   "id": "b3c56962",
   "metadata": {},
   "outputs": [
    {
     "data": {
      "text/html": [
       "\n",
       "            <style>\n",
       "                .geemap-dark {\n",
       "                    --jp-widgets-color: white;\n",
       "                    --jp-widgets-label-color: white;\n",
       "                    --jp-ui-font-color1: white;\n",
       "                    --jp-layout-color2: #454545;\n",
       "                    background-color: #383838;\n",
       "                }\n",
       "                    \n",
       "                .geemap-dark .jupyter-button {\n",
       "                    --jp-layout-color3: #383838;\n",
       "                }\n",
       "                \n",
       "                .geemap-colab {\n",
       "                    background-color: var(--colab-primary-surface-color, white);\n",
       "                }\n",
       "                    \n",
       "                .geemap-colab .jupyter-button {\n",
       "                    --jp-layout-color3: var(--colab-primary-surface-color, white);\n",
       "                }\n",
       "            </style>\n",
       "            "
      ],
      "text/plain": [
       "<IPython.core.display.HTML object>"
      ]
     },
     "metadata": {},
     "output_type": "display_data"
    }
   ],
   "source": [
    "import ee"
   ]
  },
  {
   "cell_type": "code",
   "execution_count": 2,
   "id": "08dc7d6c-9020-4807-bc2e-c72489b4b448",
   "metadata": {},
   "outputs": [],
   "source": [
    "ee.Initialize()"
   ]
  },
  {
   "cell_type": "markdown",
   "id": "409a01ca",
   "metadata": {},
   "source": [
    "## Plotting backends\n",
    "\n",
    "### Ipyleaflet"
   ]
  },
  {
   "cell_type": "code",
   "execution_count": 3,
   "id": "f6bf5f34",
   "metadata": {},
   "outputs": [],
   "source": [
    "import geemap\n",
    "geemap.set_proxy(port=7890)"
   ]
  },
  {
   "cell_type": "code",
   "execution_count": 7,
   "id": "c9b1e413",
   "metadata": {},
   "outputs": [
    {
     "data": {
      "text/html": [
       "\n",
       "            <style>\n",
       "                .geemap-dark {\n",
       "                    --jp-widgets-color: white;\n",
       "                    --jp-widgets-label-color: white;\n",
       "                    --jp-ui-font-color1: white;\n",
       "                    --jp-layout-color2: #454545;\n",
       "                    background-color: #383838;\n",
       "                }\n",
       "                    \n",
       "                .geemap-dark .jupyter-button {\n",
       "                    --jp-layout-color3: #383838;\n",
       "                }\n",
       "                \n",
       "                .geemap-colab {\n",
       "                    background-color: var(--colab-primary-surface-color, white);\n",
       "                }\n",
       "                    \n",
       "                .geemap-colab .jupyter-button {\n",
       "                    --jp-layout-color3: var(--colab-primary-surface-color, white);\n",
       "                }\n",
       "            </style>\n",
       "            "
      ],
      "text/plain": [
       "<IPython.core.display.HTML object>"
      ]
     },
     "metadata": {},
     "output_type": "display_data"
    }
   ],
   "source": [
    "Map = geemap.Map()\n",
    "states = ee.FeatureCollection('TIGER/2018/States')\n",
    "feat = states.filter(ee.Filter.eq('NAME', 'Texas'))\n",
    "# Map.addLayer(feat, {}, 'Texas')\n",
    "# Map.centerObject(feat)\n",
    "# Map"
   ]
  },
  {
   "cell_type": "code",
   "execution_count": 8,
   "metadata": {},
   "outputs": [
    {
     "data": {
      "text/html": [
       "\n",
       "            <style>\n",
       "                .geemap-dark {\n",
       "                    --jp-widgets-color: white;\n",
       "                    --jp-widgets-label-color: white;\n",
       "                    --jp-ui-font-color1: white;\n",
       "                    --jp-layout-color2: #454545;\n",
       "                    background-color: #383838;\n",
       "                }\n",
       "                    \n",
       "                .geemap-dark .jupyter-button {\n",
       "                    --jp-layout-color3: #383838;\n",
       "                }\n",
       "                \n",
       "                .geemap-colab {\n",
       "                    background-color: var(--colab-primary-surface-color, white);\n",
       "                }\n",
       "                    \n",
       "                .geemap-colab .jupyter-button {\n",
       "                    --jp-layout-color3: var(--colab-primary-surface-color, white);\n",
       "                }\n",
       "            </style>\n",
       "            "
      ],
      "text/plain": [
       "<IPython.core.display.HTML object>"
      ]
     },
     "metadata": {},
     "output_type": "display_data"
    },
    {
     "data": {
      "text/plain": [
       "{}"
      ]
     },
     "execution_count": 8,
     "metadata": {},
     "output_type": "execute_result"
    }
   ],
   "source": [
    "feat.toDictionary().getInfo()"
   ]
  },
  {
   "cell_type": "code",
   "execution_count": 14,
   "id": "8c33fb78",
   "metadata": {},
   "outputs": [
    {
     "data": {
      "text/html": [
       "\n",
       "            <style>\n",
       "                .geemap-dark {\n",
       "                    --jp-widgets-color: white;\n",
       "                    --jp-widgets-label-color: white;\n",
       "                    --jp-ui-font-color1: white;\n",
       "                    --jp-layout-color2: #454545;\n",
       "                    background-color: #383838;\n",
       "                }\n",
       "                    \n",
       "                .geemap-dark .jupyter-button {\n",
       "                    --jp-layout-color3: #383838;\n",
       "                }\n",
       "                \n",
       "                .geemap-colab {\n",
       "                    background-color: var(--colab-primary-surface-color, white);\n",
       "                }\n",
       "                    \n",
       "                .geemap-colab .jupyter-button {\n",
       "                    --jp-layout-color3: var(--colab-primary-surface-color, white);\n",
       "                }\n",
       "            </style>\n",
       "            "
      ],
      "text/plain": [
       "<IPython.core.display.HTML object>"
      ]
     },
     "metadata": {},
     "output_type": "display_data"
    },
    {
     "data": {
      "text/plain": [
       "{'ALAND': 676653171537,\n",
       " 'AWATER': 19006305260,\n",
       " 'DIVISION': '7',\n",
       " 'FUNCSTAT': 'A',\n",
       " 'GEOID': '48',\n",
       " 'INTPTLAT': '+31.4347032',\n",
       " 'INTPTLON': '-099.2818238',\n",
       " 'LSAD': '00',\n",
       " 'MTFCC': 'G4000',\n",
       " 'NAME': 'Texas',\n",
       " 'REGION': '3',\n",
       " 'STATEFP': '48',\n",
       " 'STATENS': '01779801',\n",
       " 'STUSPS': 'TX'}"
      ]
     },
     "execution_count": 14,
     "metadata": {},
     "output_type": "execute_result"
    }
   ],
   "source": [
    "texas = feat.first()\n",
    "texas.toDictionary().getInfo()"
   ]
  },
  {
   "cell_type": "code",
   "execution_count": null,
   "id": "5d0454f7",
   "metadata": {},
   "outputs": [],
   "source": [
    "\n",
    "Map = geemap.Map()\n",
    "URL = 'https://storage.googleapis.com/pdd-stac/disasters/hurricane-harvey/0831/20170831_172754_101c_3B_AnalyticMS.tif'\n",
    "image = geemap.load_GeoTIFF(URL)\n",
    "vis = {\n",
    "    \"min\": 3000,\n",
    "    \"max\": 13500,\n",
    "    \"bands\": [\"B3\", \"B2\", \"B1\"],\n",
    "}\n",
    "Map.addLayer(image, vis, 'Cloud GeoTIFF')\n",
    "Map.centerObject(image)\n",
    "Map\n",
    "geemap.ee_vector_style()"
   ]
  },
  {
   "cell_type": "code",
   "execution_count": 15,
   "id": "77a49fac",
   "metadata": {},
   "outputs": [
    {
     "data": {
      "text/html": [
       "\n",
       "            <style>\n",
       "                .geemap-dark {\n",
       "                    --jp-widgets-color: white;\n",
       "                    --jp-widgets-label-color: white;\n",
       "                    --jp-ui-font-color1: white;\n",
       "                    --jp-layout-color2: #454545;\n",
       "                    background-color: #383838;\n",
       "                }\n",
       "                    \n",
       "                .geemap-dark .jupyter-button {\n",
       "                    --jp-layout-color3: #383838;\n",
       "                }\n",
       "                \n",
       "                .geemap-colab {\n",
       "                    background-color: var(--colab-primary-surface-color, white);\n",
       "                }\n",
       "                    \n",
       "                .geemap-colab .jupyter-button {\n",
       "                    --jp-layout-color3: var(--colab-primary-surface-color, white);\n",
       "                }\n",
       "            </style>\n",
       "            "
      ],
      "text/plain": [
       "<IPython.core.display.HTML object>"
      ]
     },
     "metadata": {},
     "output_type": "display_data"
    }
   ],
   "source": [
    "types = [\n",
    "    \"Freshwater Forested/Shrub Wetland\",\n",
    "    \"Freshwater Emergent Wetland\",\n",
    "    \"Freshwater Pond\",\n",
    "    \"Estuarine and Marine Wetland\",\n",
    "    \"Riverine\",\n",
    "    \"Lake\",\n",
    "    \"Estuarine and Marine Deepwater\",\n",
    "    \"Other\",\n",
    "]\n",
    "\n",
    "colors = [\n",
    "    \"#008837\",\n",
    "    \"#7FC31C\",\n",
    "    \"#688CC0\",\n",
    "    \"#66C2A5\",\n",
    "    \"#0190BF\",\n",
    "    \"#13007C\",\n",
    "    \"#007C88\",\n",
    "    \"#B28653\",\n",
    "]\n",
    "\n",
    "fillColor = [c + \"A8\" for c in colors]"
   ]
  },
  {
   "cell_type": "code",
   "execution_count": 17,
   "id": "c5585fe6",
   "metadata": {},
   "outputs": [
    {
     "data": {
      "text/html": [
       "\n",
       "            <style>\n",
       "                .geemap-dark {\n",
       "                    --jp-widgets-color: white;\n",
       "                    --jp-widgets-label-color: white;\n",
       "                    --jp-ui-font-color1: white;\n",
       "                    --jp-layout-color2: #454545;\n",
       "                    background-color: #383838;\n",
       "                }\n",
       "                    \n",
       "                .geemap-dark .jupyter-button {\n",
       "                    --jp-layout-color3: #383838;\n",
       "                }\n",
       "                \n",
       "                .geemap-colab {\n",
       "                    background-color: var(--colab-primary-surface-color, white);\n",
       "                }\n",
       "                    \n",
       "                .geemap-colab .jupyter-button {\n",
       "                    --jp-layout-color3: var(--colab-primary-surface-color, white);\n",
       "                }\n",
       "            </style>\n",
       "            "
      ],
      "text/plain": [
       "<IPython.core.display.HTML object>"
      ]
     },
     "metadata": {},
     "output_type": "display_data"
    },
    {
     "name": "stdout",
     "output_type": "stream",
     "text": [
      "['#008837A8', '#7FC31CA8', '#688CC0A8', '#66C2A5A8', '#0190BFA8', '#13007CA8', '#007C88A8', '#B28653A8']\n"
     ]
    }
   ],
   "source": [
    "print(fillColor)"
   ]
  },
  {
   "cell_type": "code",
   "execution_count": 5,
   "id": "dbf13b6a",
   "metadata": {},
   "outputs": [
    {
     "data": {
      "text/html": [
       "\n",
       "            <style>\n",
       "                .geemap-dark {\n",
       "                    --jp-widgets-color: white;\n",
       "                    --jp-widgets-label-color: white;\n",
       "                    --jp-ui-font-color1: white;\n",
       "                    --jp-layout-color2: #454545;\n",
       "                    background-color: #383838;\n",
       "                }\n",
       "                    \n",
       "                .geemap-dark .jupyter-button {\n",
       "                    --jp-layout-color3: #383838;\n",
       "                }\n",
       "                \n",
       "                .geemap-colab {\n",
       "                    background-color: var(--colab-primary-surface-color, white);\n",
       "                }\n",
       "                    \n",
       "                .geemap-colab .jupyter-button {\n",
       "                    --jp-layout-color3: var(--colab-primary-surface-color, white);\n",
       "                }\n",
       "            </style>\n",
       "            "
      ],
      "text/plain": [
       "<IPython.core.display.HTML object>"
      ]
     },
     "metadata": {},
     "output_type": "display_data"
    },
    {
     "data": {
      "application/vnd.jupyter.widget-view+json": {
       "model_id": "ae68ee739b3647d4bf93b6fa89589ec8",
       "version_major": 2,
       "version_minor": 0
      },
      "text/plain": [
       "Map(center=[0, 0], controls=(WidgetControl(options=['position', 'transparent_bg'], widget=SearchDataGUI(childr…"
      ]
     },
     "execution_count": 5,
     "metadata": {},
     "output_type": "execute_result"
    }
   ],
   "source": [
    "Map"
   ]
  },
  {
   "cell_type": "code",
   "execution_count": 7,
   "id": "5ad8b185",
   "metadata": {},
   "outputs": [
    {
     "data": {
      "text/html": [
       "\n",
       "            <style>\n",
       "                .geemap-dark {\n",
       "                    --jp-widgets-color: white;\n",
       "                    --jp-widgets-label-color: white;\n",
       "                    --jp-ui-font-color1: white;\n",
       "                    --jp-layout-color2: #454545;\n",
       "                    background-color: #383838;\n",
       "                }\n",
       "                    \n",
       "                .geemap-dark .jupyter-button {\n",
       "                    --jp-layout-color3: #383838;\n",
       "                }\n",
       "                \n",
       "                .geemap-colab {\n",
       "                    background-color: var(--colab-primary-surface-color, white);\n",
       "                }\n",
       "                    \n",
       "                .geemap-colab .jupyter-button {\n",
       "                    --jp-layout-color3: var(--colab-primary-surface-color, white);\n",
       "                }\n",
       "            </style>\n",
       "            "
      ],
      "text/plain": [
       "<IPython.core.display.HTML object>"
      ]
     },
     "metadata": {},
     "output_type": "display_data"
    },
    {
     "data": {
      "application/vnd.jupyter.widget-view+json": {
       "model_id": "6d5e53c984764e43977a53bd823768f3",
       "version_major": 2,
       "version_minor": 0
      },
      "text/plain": [
       "Map(center=[40, -100], controls=(WidgetControl(options=['position', 'transparent_bg'], widget=SearchDataGUI(ch…"
      ]
     },
     "execution_count": 7,
     "metadata": {},
     "output_type": "execute_result"
    }
   ],
   "source": [
    "Map = geemap.Map(center=[40, -100], zoom=4, height=600)\n",
    "Map"
   ]
  },
  {
   "cell_type": "code",
   "execution_count": 8,
   "id": "6a5df72b",
   "metadata": {},
   "outputs": [
    {
     "data": {
      "text/html": [
       "\n",
       "            <style>\n",
       "                .geemap-dark {\n",
       "                    --jp-widgets-color: white;\n",
       "                    --jp-widgets-label-color: white;\n",
       "                    --jp-ui-font-color1: white;\n",
       "                    --jp-layout-color2: #454545;\n",
       "                    background-color: #383838;\n",
       "                }\n",
       "                    \n",
       "                .geemap-dark .jupyter-button {\n",
       "                    --jp-layout-color3: #383838;\n",
       "                }\n",
       "                \n",
       "                .geemap-colab {\n",
       "                    background-color: var(--colab-primary-surface-color, white);\n",
       "                }\n",
       "                    \n",
       "                .geemap-colab .jupyter-button {\n",
       "                    --jp-layout-color3: var(--colab-primary-surface-color, white);\n",
       "                }\n",
       "            </style>\n",
       "            "
      ],
      "text/plain": [
       "<IPython.core.display.HTML object>"
      ]
     },
     "metadata": {},
     "output_type": "display_data"
    },
    {
     "data": {
      "application/vnd.jupyter.widget-view+json": {
       "model_id": "2a3566d31bee4803a0e8dbb91665f83e",
       "version_major": 2,
       "version_minor": 0
      },
      "text/plain": [
       "Map(center=[0, 0], controls=(ZoomControl(options=['position', 'zoom_in_text', 'zoom_in_title', 'zoom_out_text'…"
      ]
     },
     "execution_count": 8,
     "metadata": {},
     "output_type": "execute_result"
    }
   ],
   "source": [
    "Map = geemap.Map(data_ctrl=False, toolbar_ctrl=False, draw_ctrl=False)\n",
    "Map"
   ]
  },
  {
   "cell_type": "code",
   "execution_count": 9,
   "id": "dde4b75c",
   "metadata": {},
   "outputs": [
    {
     "data": {
      "text/html": [
       "\n",
       "            <style>\n",
       "                .geemap-dark {\n",
       "                    --jp-widgets-color: white;\n",
       "                    --jp-widgets-label-color: white;\n",
       "                    --jp-ui-font-color1: white;\n",
       "                    --jp-layout-color2: #454545;\n",
       "                    background-color: #383838;\n",
       "                }\n",
       "                    \n",
       "                .geemap-dark .jupyter-button {\n",
       "                    --jp-layout-color3: #383838;\n",
       "                }\n",
       "                \n",
       "                .geemap-colab {\n",
       "                    background-color: var(--colab-primary-surface-color, white);\n",
       "                }\n",
       "                    \n",
       "                .geemap-colab .jupyter-button {\n",
       "                    --jp-layout-color3: var(--colab-primary-surface-color, white);\n",
       "                }\n",
       "            </style>\n",
       "            "
      ],
      "text/plain": [
       "<IPython.core.display.HTML object>"
      ]
     },
     "metadata": {},
     "output_type": "display_data"
    },
    {
     "data": {
      "application/vnd.jupyter.widget-view+json": {
       "model_id": "c26e5c2c5ef1493583a8aa226b251f3c",
       "version_major": 2,
       "version_minor": 0
      },
      "text/plain": [
       "Map(center=[0, 0], controls=(ZoomControl(options=['position', 'zoom_in_text', 'zoom_in_title', 'zoom_out_text'…"
      ]
     },
     "execution_count": 9,
     "metadata": {},
     "output_type": "execute_result"
    }
   ],
   "source": [
    "Map = geemap.Map(lite_mode=True)\n",
    "Map"
   ]
  },
  {
   "cell_type": "code",
   "execution_count": 10,
   "id": "01ad9b52-7778-4336-adf0-b506c34dc465",
   "metadata": {},
   "outputs": [
    {
     "data": {
      "text/html": [
       "\n",
       "            <style>\n",
       "                .geemap-dark {\n",
       "                    --jp-widgets-color: white;\n",
       "                    --jp-widgets-label-color: white;\n",
       "                    --jp-ui-font-color1: white;\n",
       "                    --jp-layout-color2: #454545;\n",
       "                    background-color: #383838;\n",
       "                }\n",
       "                    \n",
       "                .geemap-dark .jupyter-button {\n",
       "                    --jp-layout-color3: #383838;\n",
       "                }\n",
       "                \n",
       "                .geemap-colab {\n",
       "                    background-color: var(--colab-primary-surface-color, white);\n",
       "                }\n",
       "                    \n",
       "                .geemap-colab .jupyter-button {\n",
       "                    --jp-layout-color3: var(--colab-primary-surface-color, white);\n",
       "                }\n",
       "            </style>\n",
       "            "
      ],
      "text/plain": [
       "<IPython.core.display.HTML object>"
      ]
     },
     "metadata": {},
     "output_type": "display_data"
    }
   ],
   "source": [
    "#保存，默认路径为当前文件夹"
   ]
  },
  {
   "cell_type": "code",
   "execution_count": 14,
   "id": "1494dedd-bcc9-433a-832d-bf577a7bb03f",
   "metadata": {},
   "outputs": [
    {
     "data": {
      "text/html": [
       "\n",
       "            <style>\n",
       "                .geemap-dark {\n",
       "                    --jp-widgets-color: white;\n",
       "                    --jp-widgets-label-color: white;\n",
       "                    --jp-ui-font-color1: white;\n",
       "                    --jp-layout-color2: #454545;\n",
       "                    background-color: #383838;\n",
       "                }\n",
       "                    \n",
       "                .geemap-dark .jupyter-button {\n",
       "                    --jp-layout-color3: #383838;\n",
       "                }\n",
       "                \n",
       "                .geemap-colab {\n",
       "                    background-color: var(--colab-primary-surface-color, white);\n",
       "                }\n",
       "                    \n",
       "                .geemap-colab .jupyter-button {\n",
       "                    --jp-layout-color3: var(--colab-primary-surface-color, white);\n",
       "                }\n",
       "            </style>\n",
       "            "
      ],
      "text/plain": [
       "<IPython.core.display.HTML object>"
      ]
     },
     "metadata": {},
     "output_type": "display_data"
    }
   ],
   "source": [
    "# 绝对路径格式<r'E:\\01_data_and_files\\OneDrive\\02_学习\\02_转码\\04_GEE\\00_\\ipyleaflet.html'>\n",
    "# win里面需在前面 + 'r', mac不用"
   ]
  },
  {
   "cell_type": "code",
   "execution_count": null,
   "id": "5440567d-2ced-4d32-8bed-b7888fa9886c",
   "metadata": {},
   "outputs": [],
   "source": [
    "# 默认是相对路径（当前ipynb文件所在目录）"
   ]
  },
  {
   "cell_type": "code",
   "execution_count": 15,
   "id": "7ebc0429",
   "metadata": {},
   "outputs": [
    {
     "data": {
      "text/html": [
       "\n",
       "            <style>\n",
       "                .geemap-dark {\n",
       "                    --jp-widgets-color: white;\n",
       "                    --jp-widgets-label-color: white;\n",
       "                    --jp-ui-font-color1: white;\n",
       "                    --jp-layout-color2: #454545;\n",
       "                    background-color: #383838;\n",
       "                }\n",
       "                    \n",
       "                .geemap-dark .jupyter-button {\n",
       "                    --jp-layout-color3: #383838;\n",
       "                }\n",
       "                \n",
       "                .geemap-colab {\n",
       "                    background-color: var(--colab-primary-surface-color, white);\n",
       "                }\n",
       "                    \n",
       "                .geemap-colab .jupyter-button {\n",
       "                    --jp-layout-color3: var(--colab-primary-surface-color, white);\n",
       "                }\n",
       "            </style>\n",
       "            "
      ],
      "text/plain": [
       "<IPython.core.display.HTML object>"
      ]
     },
     "metadata": {},
     "output_type": "display_data"
    }
   ],
   "source": [
    "Map.save('ipyleaflet.html')"
   ]
  },
  {
   "cell_type": "markdown",
   "id": "c5eeb745",
   "metadata": {},
   "source": [
    "### Folium"
   ]
  },
  {
   "cell_type": "code",
   "execution_count": null,
   "id": "0eec3ec7",
   "metadata": {},
   "outputs": [],
   "source": [
    "import geemap.foliumap as geemap"
   ]
  },
  {
   "cell_type": "code",
   "execution_count": null,
   "id": "dfdb9d59",
   "metadata": {},
   "outputs": [],
   "source": [
    "Map = geemap.Map(center=[40, -100], zoom=4, height=600)\n",
    "Map"
   ]
  },
  {
   "cell_type": "code",
   "execution_count": null,
   "id": "a43cda9f",
   "metadata": {},
   "outputs": [],
   "source": [
    "Map.save('folium.html')"
   ]
  },
  {
   "cell_type": "markdown",
   "id": "d658c9d0",
   "metadata": {},
   "source": [
    "### Plotly"
   ]
  },
  {
   "cell_type": "code",
   "execution_count": null,
   "id": "3e6cec83",
   "metadata": {},
   "outputs": [],
   "source": [
    "import geemap.plotlymap as geemap"
   ]
  },
  {
   "cell_type": "code",
   "execution_count": null,
   "id": "05874535",
   "metadata": {},
   "outputs": [],
   "source": [
    "Map = geemap.Map()\n",
    "Map"
   ]
  },
  {
   "cell_type": "code",
   "execution_count": null,
   "id": "2b105c06",
   "metadata": {},
   "outputs": [],
   "source": [
    "# geemap.fix_widget_error()"
   ]
  },
  {
   "cell_type": "markdown",
   "id": "1e3744a1",
   "metadata": {},
   "source": [
    "### Pydeck"
   ]
  },
  {
   "cell_type": "code",
   "execution_count": null,
   "id": "fd35d95a",
   "metadata": {},
   "outputs": [],
   "source": [
    "import geemap.deck as geemap"
   ]
  },
  {
   "cell_type": "code",
   "execution_count": null,
   "id": "6bfeeefa",
   "metadata": {},
   "outputs": [],
   "source": [
    "Map = geemap.Map()\n",
    "Map"
   ]
  },
  {
   "cell_type": "markdown",
   "id": "2ade3d64",
   "metadata": {},
   "source": [
    "### KeplerGL"
   ]
  },
  {
   "cell_type": "code",
   "execution_count": null,
   "id": "530fd26d-2163-4ac8-ad16-fff35f3bc412",
   "metadata": {},
   "outputs": [],
   "source": [
    "# 这个比较酷，可以调用mapbox?"
   ]
  },
  {
   "cell_type": "code",
   "execution_count": null,
   "id": "dde6921a",
   "metadata": {},
   "outputs": [],
   "source": [
    "import geemap.kepler as geemap"
   ]
  },
  {
   "cell_type": "code",
   "execution_count": null,
   "id": "251b39a1",
   "metadata": {},
   "outputs": [],
   "source": [
    "Map = geemap.Map()\n",
    "Map"
   ]
  },
  {
   "cell_type": "markdown",
   "id": "44005e6c",
   "metadata": {},
   "source": [
    "## Adding basemaps\n",
    "\n",
    "### Built-in basemaps"
   ]
  },
  {
   "cell_type": "code",
   "execution_count": null,
   "id": "caac7014",
   "metadata": {},
   "outputs": [],
   "source": [
    "import geemap"
   ]
  },
  {
   "cell_type": "code",
   "execution_count": null,
   "id": "f11b2b37-55ba-4961-8aff-fe3a9d036e9f",
   "metadata": {},
   "outputs": [],
   "source": [
    "Map = geemap.Map(basemap='HYBRID')\n",
    "Map"
   ]
  },
  {
   "cell_type": "code",
   "execution_count": null,
   "id": "34f0b2a6",
   "metadata": {},
   "outputs": [],
   "source": [
    "Map.add_basemap('CartoDB.DarkMatter', show=True)"
   ]
  },
  {
   "cell_type": "code",
   "execution_count": null,
   "id": "3e98d5dc",
   "metadata": {},
   "outputs": [],
   "source": [
    "for basemap in geemap.basemaps.keys():\n",
    "    print(basemap)"
   ]
  },
  {
   "cell_type": "code",
   "execution_count": null,
   "id": "53afcc1a",
   "metadata": {},
   "outputs": [],
   "source": [
    "len(geemap.basemaps)"
   ]
  },
  {
   "cell_type": "markdown",
   "id": "c984e077",
   "metadata": {},
   "source": [
    "### XYZ tiles"
   ]
  },
  {
   "cell_type": "code",
   "execution_count": null,
   "id": "deb1d4db-37f6-4a15-9ff4-c3ccb4495bf3",
   "metadata": {},
   "outputs": [],
   "source": [
    "# 其他符合规则的url作为也可以作为底图, 右上角可以调整layer的透明度"
   ]
  },
  {
   "cell_type": "code",
   "execution_count": null,
   "id": "61eab86c",
   "metadata": {},
   "outputs": [],
   "source": [
    "Map = geemap.Map()\n",
    "Map.add_tile_layer(\n",
    "    url=\"https://mt1.google.com/vt/lyrs=p&x={x}&y={y}&z={z}\",\n",
    "    name=\"Google Terrain\",\n",
    "    attribution=\"Google\",\n",
    ")\n",
    "Map"
   ]
  },
  {
   "cell_type": "markdown",
   "id": "8f8fb27d",
   "metadata": {},
   "source": [
    "### WMS tiles"
   ]
  },
  {
   "cell_type": "code",
   "execution_count": null,
   "id": "8914497b",
   "metadata": {},
   "outputs": [],
   "source": [
    "Map = geemap.Map(center=[40, -100], zoom=4)\n",
    "url = 'https://www.mrlc.gov/geoserver/mrlc_display/NLCD_2019_Land_Cover_L48/wms?'\n",
    "Map.add_wms_layer(\n",
    "    url=url,\n",
    "    layers='NLCD_2019_Land_Cover_L48',\n",
    "    name='NLCD 2019',\n",
    "    format='image/png',\n",
    "    attribution='MRLC',\n",
    "    transparent=True,\n",
    ")\n",
    "Map"
   ]
  },
  {
   "cell_type": "markdown",
   "id": "25e54107",
   "metadata": {},
   "source": [
    "### Planet basemaps"
   ]
  },
  {
   "cell_type": "code",
   "execution_count": null,
   "id": "1119a613-80cf-433d-9ee4-dcbf47add2b7",
   "metadata": {},
   "outputs": [],
   "source": [
    "# 看一下这个"
   ]
  },
  {
   "cell_type": "code",
   "execution_count": null,
   "id": "0f5d445a",
   "metadata": {},
   "outputs": [],
   "source": [
    "import os\n",
    "\n",
    "os.environ[\"PLANET_API_KEY\"] = \"YOUR_API_KEY\""
   ]
  },
  {
   "cell_type": "code",
   "execution_count": null,
   "id": "fe4629d7",
   "metadata": {},
   "outputs": [],
   "source": [
    "quarterly_tiles = geemap.planet_quarterly_tiles()\n",
    "for tile in quarterly_tiles:\n",
    "    print(tile)"
   ]
  },
  {
   "cell_type": "code",
   "execution_count": null,
   "id": "982c21b3",
   "metadata": {},
   "outputs": [],
   "source": [
    "monthly_tiles = geemap.planet_monthly_tiles()\n",
    "for tile in monthly_tiles:\n",
    "    print(tile)"
   ]
  },
  {
   "cell_type": "code",
   "execution_count": null,
   "id": "8e6542c0",
   "metadata": {},
   "outputs": [],
   "source": [
    "Map = geemap.Map()\n",
    "Map.add_planet_by_month(year=2020, month=8)\n",
    "Map"
   ]
  },
  {
   "cell_type": "code",
   "execution_count": null,
   "id": "17284ef8",
   "metadata": {},
   "outputs": [],
   "source": [
    "Map = geemap.Map()\n",
    "Map.add_planet_by_quarter(year=2019, quarter=2)\n",
    "Map"
   ]
  },
  {
   "cell_type": "markdown",
   "id": "b0ac12ad",
   "metadata": {},
   "source": [
    "### Basemap GUI"
   ]
  },
  {
   "cell_type": "code",
   "execution_count": null,
   "id": "45602b80",
   "metadata": {},
   "outputs": [],
   "source": [
    "import os\n",
    "\n",
    "os.environ[\"PLANET_API_KEY\"] = \"YOUR_API_KEY\""
   ]
  },
  {
   "cell_type": "code",
   "execution_count": null,
   "id": "c93783f6",
   "metadata": {},
   "outputs": [],
   "source": [
    "Map = geemap.Map()\n",
    "Map"
   ]
  },
  {
   "cell_type": "markdown",
   "id": "167a1319",
   "metadata": {},
   "source": [
    "## Summary"
   ]
  }
 ],
 "metadata": {
  "kernelspec": {
   "display_name": "Python 3 (ipykernel)",
   "language": "python",
   "name": "python3"
  },
  "language_info": {
   "codemirror_mode": {
    "name": "ipython",
    "version": 3
   },
   "file_extension": ".py",
   "mimetype": "text/x-python",
   "name": "python",
   "nbconvert_exporter": "python",
   "pygments_lexer": "ipython3",
   "version": "3.12.1"
  }
 },
 "nbformat": 4,
 "nbformat_minor": 5
}
